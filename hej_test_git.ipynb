{
 "cells": [
  {
   "cell_type": "markdown",
   "id": "34c603a4",
   "metadata": {},
   "source": [
    "# salut\n"
   ]
  },
  {
   "cell_type": "code",
   "execution_count": null,
   "id": "8c74c509",
   "metadata": {},
   "outputs": [],
   "source": [
    "2+2"
   ]
  },
  {
   "cell_type": "code",
   "execution_count": null,
   "id": "e6feef0a",
   "metadata": {},
   "outputs": [],
   "source": []
  },
  {
   "cell_type": "code",
   "execution_count": null,
   "id": "79a4a649",
   "metadata": {},
   "outputs": [],
   "source": [
    "#changing in master branch but not testar"
   ]
  }
 ],
 "metadata": {
  "kernelspec": {
   "display_name": "Python 3 (ipykernel)",
   "language": "python",
   "name": "python3"
  },
  "language_info": {
   "codemirror_mode": {
    "name": "ipython",
    "version": 3
   },
   "file_extension": ".py",
   "mimetype": "text/x-python",
   "name": "python",
   "nbconvert_exporter": "python",
   "pygments_lexer": "ipython3",
   "version": "3.9.16"
  }
 },
 "nbformat": 4,
 "nbformat_minor": 5
}
